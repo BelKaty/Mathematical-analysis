{
  "cells": [
    {
      "cell_type": "markdown",
      "metadata": {
        "id": "view-in-github",
        "colab_type": "text"
      },
      "source": [
        "<a href=\"https://colab.research.google.com/github/BelKaty/Mathematical-analysis/blob/main/HW_2.ipynb\" target=\"_parent\"><img src=\"https://colab.research.google.com/assets/colab-badge.svg\" alt=\"Open In Colab\"/></a>"
      ]
    },
    {
      "cell_type": "markdown",
      "metadata": {
        "id": "0JC54zlO7jNh"
      },
      "source": [
        "# Тема “Введение в математических анализ”\n",
        "\n",
        "Урок 2. Множество. Последовательность. Часть 1\n"
      ]
    },
    {
      "cell_type": "markdown",
      "metadata": {
        "id": "N_szoGWX7jNl"
      },
      "source": [
        "## 1. Как относятся друг к другу множество и последовательность? (в ответе использовать слова типа: часть, целое, общее, частное, родитель, дочерний субъект и т.д.)"
      ]
    },
    {
      "cell_type": "markdown",
      "metadata": {
        "id": "0JeT0R7d7jNm"
      },
      "source": [
        "Мно́жество — это совокупность, собрание каких-либо объектов и обладают общими для всех их характеристическим свойством.\n",
        "\n",
        "Последовательность — набор элементов некоторого множества.\n",
        "\n",
        "Последовательность, является частью некоторого множества объектов. Последовательность является результатом последовательного выбора элементов заданного множества."
      ]
    },
    {
      "cell_type": "markdown",
      "metadata": {
        "id": "8hdqhLQt7jNn"
      },
      "source": [
        "## 2. Прочитать высказывания математической логики, построить их отрицания и установить истинность."
      ]
    },
    {
      "cell_type": "markdown",
      "metadata": {
        "id": "tyS4ztOB7jNn"
      },
      "source": [
        "+ $\\forall y \\in [0;1]:sgn(y)=1$  \n",
        "$\\exists x \\in [0;1]:sgn(x)\\neq 1$"
      ]
    },
    {
      "cell_type": "markdown",
      "metadata": {
        "id": "Qpw3_ooa7jNo"
      },
      "source": [
        "Для любого y, принадлещего интервалу от 0 до 1 включительно, кусочно-постоянная функция действительного аргумента принимает значение 1.  \n",
        "Высказывание ложно."
      ]
    },
    {
      "cell_type": "markdown",
      "metadata": {
        "id": "8kGJL-ol7jNo"
      },
      "source": [
        "* $\\forall n \\in \\mathbb {N} > 2 : \\exists x, y, z \\in \\mathbb {N}: x^n = y^n + z^n$  \n",
        "$\\exists n \\in \\mathbb {N} > 2 : \\forall x, y, z \\in \\mathbb {N}: x^n \\neq y^n + z^n$"
      ]
    },
    {
      "cell_type": "markdown",
      "metadata": {
        "id": "BrKbpxEW7jNp"
      },
      "source": [
        "Для любого n больше 2, принадлежащего множеству натуральных чисел, существуют x, y, z, принадлежащие множеству натуральных чисел, для которых выполняется раветство $x^n = y^n + z^n$.  \n",
        "Высказывание истинно."
      ]
    },
    {
      "cell_type": "markdown",
      "metadata": {
        "id": "jZfz7U847jNq"
      },
      "source": [
        "+ $\\forall x \\in \\mathbb {R} \\exists X \\in \\mathbb {R} :X >x$  \n",
        "$\\exists x \\in \\mathbb {R} \\forall X \\in \\mathbb {R} :X < x$"
      ]
    },
    {
      "cell_type": "markdown",
      "metadata": {
        "id": "rMH0i_P67jNq"
      },
      "source": [
        "Для любого x, принадлежащего множеству действительных чисел, существует последовательность X, принадлежащая множеству действительных чисел, для которой выполняется неравенство X > x.  \n",
        "Высказывание ложно."
      ]
    },
    {
      "cell_type": "markdown",
      "metadata": {
        "id": "IAO20jh87jNr"
      },
      "source": [
        "+ $\\forall x \\in \\mathbb {C} \\nexists y \\in \\mathbb {C} : x > y \\parallel x < y$  \n",
        "$\\exists x,y \\in \\mathbb {C} : x < y \\& x > y$"
      ]
    },
    {
      "cell_type": "markdown",
      "metadata": {
        "id": "YtU38uGM7jNr"
      },
      "source": [
        "Для любого x, принадлежащего множеству комплексных чисел, не существует y, принадлежащего множеству комплексных чисел, для которого выполняется неравенство x > y или x < y.   \n",
        "Высказывание истинно."
      ]
    },
    {
      "cell_type": "markdown",
      "metadata": {
        "id": "kbp77Mvd7jNr"
      },
      "source": [
        "+ $\\forall y \\in [0; \\frac {\\pi} {2}] \\exists \\epsilon> 0: \\sin{y} < \\sin{(y + \\epsilon)}$  \n",
        "$\\exists y \\in [0; \\frac {\\pi} {2}] \\forall \\epsilon > 0: \\sin{y} > \\sin{(y + \\epsilon)}$"
      ]
    },
    {
      "cell_type": "markdown",
      "metadata": {
        "id": "5nc052Ca7jNs"
      },
      "source": [
        "Для любого y, принадлежащего интервалу от 0 до $\\frac{\\pi}{2}$ включительно, существует $\\epsilon$ больше 0, для которого выполняется неравенство $\\sin{y} < \\sin{(y + \\epsilon)}$.  \n",
        "Высказывание ложно."
      ]
    },
    {
      "cell_type": "markdown",
      "metadata": {
        "id": "HblQtyL-7jNs"
      },
      "source": [
        "+ $\\forall y \\in [0; \\pi) \\exists \\epsilon> 0: \\cos{y} > \\cos{(y + \\epsilon)}$  \n",
        "$\\exists y \\in [0; \\pi) \\forall \\epsilon > 0: \\cos{y} < \\cos{(y + \\epsilon)}$"
      ]
    },
    {
      "cell_type": "markdown",
      "metadata": {
        "id": "bC913tap7jNs"
      },
      "source": [
        "Для любого y, принадлежащего интервалу от 0 включительно до $\\pi $ невключительно, существует $\\epsilon$ больше 0, для которого выполняется неравенство $\\cos{y} > \\cos{(y + \\epsilon)}$.  \n",
        "Высказывание истино."
      ]
    },
    {
      "cell_type": "markdown",
      "metadata": {
        "id": "hVH2vDlY7jNt"
      },
      "source": [
        "+ $\\exists x: x \\notin \\{\\mathbb{N, Z, Q, R, C}\\}$  \n",
        "$\\forall x: x \\in \\{\\mathbb{N, Z, Q, R, C}\\}$"
      ]
    },
    {
      "cell_type": "markdown",
      "metadata": {
        "id": "qoquk1ox7jNt"
      },
      "source": [
        "Для любого x, x не является элементом множества натуральных, целых, рациональных, действительных и комплексных чисел.  \n",
        "Высказывание ложно."
      ]
    },
    {
      "cell_type": "markdown",
      "metadata": {
        "id": "NpxpAg5S7jNt"
      },
      "source": [
        "# Тема “Множество”"
      ]
    },
    {
      "cell_type": "markdown",
      "metadata": {
        "id": "TrzKgnUI7jNu"
      },
      "source": [
        "## 1. Даны три множества a, b и с. Необходимо выполнить все изученные виды бинарных операций над всеми комбинациями множеств."
      ]
    },
    {
      "cell_type": "markdown",
      "metadata": {
        "id": "8MC25W_z7jNu"
      },
      "source": [
        "$A = \\{1, 2, 3, 4, четыре, пять\\}$  \n",
        "$B = \\{1, 3, 4, 5, 6, семь, восемь\\}$  \n",
        "$C = \\{4, 6, 8, 9, 10, сто\\}$  "
      ]
    },
    {
      "cell_type": "markdown",
      "metadata": {
        "id": "zjKTL2l47jNu"
      },
      "source": [
        "+ Пересечение  \n",
        "$A \\cap B \\cap C = \\{1\\}$"
      ]
    },
    {
      "cell_type": "markdown",
      "metadata": {
        "id": "qw1iJ64v7jNu"
      },
      "source": [
        "+ Объединение  \n",
        "$A \\cup B \\cup C = \\{1, 10, 2, 3, 4, 5, 6, 8, 9, восемь, пять, семь, сто, четыре\\}$"
      ]
    },
    {
      "cell_type": "markdown",
      "metadata": {
        "id": "K1W7c3ip7jNv"
      },
      "source": [
        "+ Разность  \n",
        "$A \\setminus B \\setminus C = \\{2, пять, четыре\\}$"
      ]
    },
    {
      "cell_type": "markdown",
      "metadata": {
        "id": "puRqtb0B7jNv"
      },
      "source": [
        "+ Симметричной разность  \n",
        "$A \\Delta B \\Delta C = \\{10, 2, 5, 8, 9, восемь, пять, семь, сто, четыре\\}$"
      ]
    },
    {
      "cell_type": "markdown",
      "metadata": {
        "id": "vAu7uS0m7jNv"
      },
      "source": [
        "+ Декартово произведение  \n",
        "$A \\times B \\times C = \\{(четыре, 1, сто), (четыре, 1, 4)\\dots \\}$"
      ]
    },
    {
      "cell_type": "markdown",
      "metadata": {
        "id": "zRwNoRs17jNv"
      },
      "source": [
        "## 2. *Выполнить задание 1 на языке Python"
      ]
    },
    {
      "cell_type": "code",
      "execution_count": 1,
      "metadata": {
        "id": "wyIXvmcd7jNw"
      },
      "outputs": [],
      "source": [
        "A = {1, 2, 3, 4, \"четыре\", \"пять\"}\n",
        "B = {1, 3, 4, 5, 6, \"семь\", \"восемь\"}\n",
        "C = {4, 6, 8, 9, 10, 'сто'}"
      ]
    },
    {
      "cell_type": "code",
      "execution_count": null,
      "metadata": {
        "id": "xNkGbxiu7jNx",
        "outputId": "ca5d88c9-dca0-4f09-d930-d647a2e0225c",
        "colab": {
          "base_uri": "https://localhost:8080/"
        }
      },
      "outputs": [
        {
          "output_type": "execute_result",
          "data": {
            "text/plain": [
              "{1}"
            ]
          },
          "metadata": {},
          "execution_count": 2
        }
      ],
      "source": [
        "A & B & C"
      ]
    },
    {
      "cell_type": "code",
      "execution_count": 2,
      "metadata": {
        "id": "fwkg_NCp7jNy",
        "outputId": "cfa38bc4-f116-428c-a02e-5cb49bf7f02e",
        "colab": {
          "base_uri": "https://localhost:8080/"
        }
      },
      "outputs": [
        {
          "output_type": "execute_result",
          "data": {
            "text/plain": [
              "{1, 10, 2, 3, 4, 5, 6, 8, 9, 'восемь', 'пять', 'семь', 'сто', 'четыре'}"
            ]
          },
          "metadata": {},
          "execution_count": 2
        }
      ],
      "source": [
        "A | B | C"
      ]
    },
    {
      "cell_type": "code",
      "execution_count": 3,
      "metadata": {
        "id": "01iRz3U-7jNz",
        "outputId": "deed2fb0-44bb-4151-e317-f0bbd22d4d3e",
        "colab": {
          "base_uri": "https://localhost:8080/"
        }
      },
      "outputs": [
        {
          "output_type": "execute_result",
          "data": {
            "text/plain": [
              "{2, 'пять', 'четыре'}"
            ]
          },
          "metadata": {},
          "execution_count": 3
        }
      ],
      "source": [
        "A - B - C"
      ]
    },
    {
      "cell_type": "code",
      "execution_count": 4,
      "metadata": {
        "id": "bEoSY3Au7jNz",
        "outputId": "8a147989-790d-4cde-d0cf-8971db741c36",
        "colab": {
          "base_uri": "https://localhost:8080/"
        }
      },
      "outputs": [
        {
          "output_type": "execute_result",
          "data": {
            "text/plain": [
              "{10, 2, 5, 8, 9, 'восемь', 'пять', 'семь', 'сто', 'четыре'}"
            ]
          },
          "metadata": {},
          "execution_count": 4
        }
      ],
      "source": [
        "(A - B - C) | (B - C - A) | (C - A - B)"
      ]
    },
    {
      "cell_type": "code",
      "execution_count": 5,
      "metadata": {
        "id": "MVXrkvkG7jNz",
        "outputId": "5870d6e6-8209-4b9c-845f-961a40f44452",
        "colab": {
          "base_uri": "https://localhost:8080/"
        }
      },
      "outputs": [
        {
          "output_type": "stream",
          "name": "stdout",
          "text": [
            "('четыре', 1, 'сто') ('четыре', 1, 4) ('четыре', 1, 6) ('четыре', 1, 8) ('четыре', 1, 9) ('четыре', 1, 10) ('четыре', 3, 'сто') ('четыре', 3, 4) ('четыре', 3, 6) ('четыре', 3, 8) ('четыре', 3, 9) ('четыре', 3, 10) ('четыре', 4, 'сто') ('четыре', 4, 4) ('четыре', 4, 6) ('четыре', 4, 8) ('четыре', 4, 9) ('четыре', 4, 10) ('четыре', 5, 'сто') ('четыре', 5, 4) ('четыре', 5, 6) ('четыре', 5, 8) ('четыре', 5, 9) ('четыре', 5, 10) ('четыре', 6, 'сто') ('четыре', 6, 4) ('четыре', 6, 6) ('четыре', 6, 8) ('четыре', 6, 9) ('четыре', 6, 10) ('четыре', 'восемь', 'сто') ('четыре', 'восемь', 4) ('четыре', 'восемь', 6) ('четыре', 'восемь', 8) ('четыре', 'восемь', 9) ('четыре', 'восемь', 10) ('четыре', 'семь', 'сто') ('четыре', 'семь', 4) ('четыре', 'семь', 6) ('четыре', 'семь', 8) ('четыре', 'семь', 9) ('четыре', 'семь', 10) (1, 1, 'сто') (1, 1, 4) (1, 1, 6) (1, 1, 8) (1, 1, 9) (1, 1, 10) (1, 3, 'сто') (1, 3, 4) (1, 3, 6) (1, 3, 8) (1, 3, 9) (1, 3, 10) (1, 4, 'сто') (1, 4, 4) (1, 4, 6) (1, 4, 8) (1, 4, 9) (1, 4, 10) (1, 5, 'сто') (1, 5, 4) (1, 5, 6) (1, 5, 8) (1, 5, 9) (1, 5, 10) (1, 6, 'сто') (1, 6, 4) (1, 6, 6) (1, 6, 8) (1, 6, 9) (1, 6, 10) (1, 'восемь', 'сто') (1, 'восемь', 4) (1, 'восемь', 6) (1, 'восемь', 8) (1, 'восемь', 9) (1, 'восемь', 10) (1, 'семь', 'сто') (1, 'семь', 4) (1, 'семь', 6) (1, 'семь', 8) (1, 'семь', 9) (1, 'семь', 10) (2, 1, 'сто') (2, 1, 4) (2, 1, 6) (2, 1, 8) (2, 1, 9) (2, 1, 10) (2, 3, 'сто') (2, 3, 4) (2, 3, 6) (2, 3, 8) (2, 3, 9) (2, 3, 10) (2, 4, 'сто') (2, 4, 4) (2, 4, 6) (2, 4, 8) (2, 4, 9) (2, 4, 10) (2, 5, 'сто') (2, 5, 4) (2, 5, 6) (2, 5, 8) (2, 5, 9) (2, 5, 10) (2, 6, 'сто') (2, 6, 4) (2, 6, 6) (2, 6, 8) (2, 6, 9) (2, 6, 10) (2, 'восемь', 'сто') (2, 'восемь', 4) (2, 'восемь', 6) (2, 'восемь', 8) (2, 'восемь', 9) (2, 'восемь', 10) (2, 'семь', 'сто') (2, 'семь', 4) (2, 'семь', 6) (2, 'семь', 8) (2, 'семь', 9) (2, 'семь', 10) (3, 1, 'сто') (3, 1, 4) (3, 1, 6) (3, 1, 8) (3, 1, 9) (3, 1, 10) (3, 3, 'сто') (3, 3, 4) (3, 3, 6) (3, 3, 8) (3, 3, 9) (3, 3, 10) (3, 4, 'сто') (3, 4, 4) (3, 4, 6) (3, 4, 8) (3, 4, 9) (3, 4, 10) (3, 5, 'сто') (3, 5, 4) (3, 5, 6) (3, 5, 8) (3, 5, 9) (3, 5, 10) (3, 6, 'сто') (3, 6, 4) (3, 6, 6) (3, 6, 8) (3, 6, 9) (3, 6, 10) (3, 'восемь', 'сто') (3, 'восемь', 4) (3, 'восемь', 6) (3, 'восемь', 8) (3, 'восемь', 9) (3, 'восемь', 10) (3, 'семь', 'сто') (3, 'семь', 4) (3, 'семь', 6) (3, 'семь', 8) (3, 'семь', 9) (3, 'семь', 10) (4, 1, 'сто') (4, 1, 4) (4, 1, 6) (4, 1, 8) (4, 1, 9) (4, 1, 10) (4, 3, 'сто') (4, 3, 4) (4, 3, 6) (4, 3, 8) (4, 3, 9) (4, 3, 10) (4, 4, 'сто') (4, 4, 4) (4, 4, 6) (4, 4, 8) (4, 4, 9) (4, 4, 10) (4, 5, 'сто') (4, 5, 4) (4, 5, 6) (4, 5, 8) (4, 5, 9) (4, 5, 10) (4, 6, 'сто') (4, 6, 4) (4, 6, 6) (4, 6, 8) (4, 6, 9) (4, 6, 10) (4, 'восемь', 'сто') (4, 'восемь', 4) (4, 'восемь', 6) (4, 'восемь', 8) (4, 'восемь', 9) (4, 'восемь', 10) (4, 'семь', 'сто') (4, 'семь', 4) (4, 'семь', 6) (4, 'семь', 8) (4, 'семь', 9) (4, 'семь', 10) ('пять', 1, 'сто') ('пять', 1, 4) ('пять', 1, 6) ('пять', 1, 8) ('пять', 1, 9) ('пять', 1, 10) ('пять', 3, 'сто') ('пять', 3, 4) ('пять', 3, 6) ('пять', 3, 8) ('пять', 3, 9) ('пять', 3, 10) ('пять', 4, 'сто') ('пять', 4, 4) ('пять', 4, 6) ('пять', 4, 8) ('пять', 4, 9) ('пять', 4, 10) ('пять', 5, 'сто') ('пять', 5, 4) ('пять', 5, 6) ('пять', 5, 8) ('пять', 5, 9) ('пять', 5, 10) ('пять', 6, 'сто') ('пять', 6, 4) ('пять', 6, 6) ('пять', 6, 8) ('пять', 6, 9) ('пять', 6, 10) ('пять', 'восемь', 'сто') ('пять', 'восемь', 4) ('пять', 'восемь', 6) ('пять', 'восемь', 8) ('пять', 'восемь', 9) ('пять', 'восемь', 10) ('пять', 'семь', 'сто') ('пять', 'семь', 4) ('пять', 'семь', 6) ('пять', 'семь', 8) ('пять', 'семь', 9) ('пять', 'семь', 10)\n"
          ]
        }
      ],
      "source": [
        "import itertools\n",
        "print(*itertools.product(A, B, C))"
      ]
    },
    {
      "cell_type": "markdown",
      "metadata": {
        "id": "ZdyUB-ES7jN0"
      },
      "source": [
        "# Тема 3 “Последовательность”"
      ]
    },
    {
      "cell_type": "markdown",
      "metadata": {
        "id": "Es1DbvyF7jN0"
      },
      "source": [
        "## 1. Даны 4 последовательности. Необходимо:  \n",
        "### a. исследовать их на монотонность;  \n",
        "### b. исследовать на ограниченность;  \n",
        "### c. найти пятый по счету член."
      ]
    },
    {
      "cell_type": "markdown",
      "metadata": {
        "id": "24b8cr-N7jN0"
      },
      "source": [
        "$\\{a_n\\}^\\infty_{n=1}=2^n -n$  \n",
        "\n",
        "a. монотонная последовательность\n",
        "\n",
        "b. возрастающая\n",
        "\n",
        "c. $27$"
      ]
    },
    {
      "cell_type": "markdown",
      "metadata": {
        "id": "8surkdP_7jN0"
      },
      "source": [
        "$\\{b_n\\}^\\infty_{n=2} = \\frac {1} {1 -n}$  \n",
        "\n",
        "a. монотонная последовательность\n",
        "\n",
        "b. возрастающая\n",
        "\n",
        "c. $-\\frac{1}{5}$"
      ]
    },
    {
      "cell_type": "markdown",
      "metadata": {
        "id": "i0gDp5bD7jN0"
      },
      "source": [
        "$\\{c_n\\}^\\infty_{n=1} = -1^n + \\sqrt{2n}$  \n",
        "\n",
        "a. монотонная последовательность\n",
        "\n",
        "b. возрастающая\n",
        "\n",
        "c. $\\sqrt{10} - 1 \\approx 2.162$"
      ]
    },
    {
      "cell_type": "markdown",
      "metadata": {
        "id": "DlZMq5_o7jN0"
      },
      "source": [
        "$\\{d_n\\}^\\infty_{n=1}= (-1)^{2n} + \\frac{1}{n^2}$  \n",
        "\n",
        "a. нестрогая монотонность\n",
        "\n",
        "b. нестрого убывает\n",
        "\n",
        "c. $1\\frac{1}{25}$"
      ]
    },
    {
      "cell_type": "markdown",
      "metadata": {
        "id": "MyF57EWF7jN5"
      },
      "source": [
        "## 2. Найти 12-й член заданной неявно последовательности\n",
        "\n",
        "$a_1 =128, a_{n+1} - a_n =6$"
      ]
    },
    {
      "cell_type": "markdown",
      "metadata": {
        "id": "yf-fq9oi7jN5"
      },
      "source": [
        "$a_n = 128 + 5n$  \n",
        "$a_{12} = 128 +5\\times 12 = 194$"
      ]
    },
    {
      "cell_type": "code",
      "execution_count": null,
      "metadata": {
        "id": "0TqoSJZC7jN5",
        "outputId": "0958e8e7-85c6-40b0-fa93-9db6428be546",
        "colab": {
          "base_uri": "https://localhost:8080/"
        }
      },
      "outputs": [
        {
          "output_type": "stream",
          "name": "stdout",
          "text": [
            "194\n"
          ]
        }
      ],
      "source": [
        "a1=128\n",
        "for _ in range(11):\n",
        "    a1 += 6\n",
        "print(a1)"
      ]
    },
    {
      "cell_type": "markdown",
      "metadata": {
        "id": "rMDgq2QH7jN6"
      },
      "source": [
        "## 3. *На языке Python предложить алгоритм вычисляющий численно предел с точностью $\\epsilon = 10^{-7}$\n",
        "\n",
        "$\\lim\\limits_{n \\to +\\infty} \\frac{n}{\\sqrt[n]{n!}}$"
      ]
    },
    {
      "cell_type": "code",
      "execution_count": null,
      "metadata": {
        "id": "kdvoaqdY7jN6"
      },
      "outputs": [],
      "source": [
        "from matplotlib import pyplot as plt\n",
        "import numpy as np\n",
        "import sympy as sym\n",
        "import time\n",
        "%matplotlib inline"
      ]
    },
    {
      "cell_type": "code",
      "execution_count": null,
      "metadata": {
        "id": "OFosrpmy7jN7"
      },
      "outputs": [],
      "source": [
        "def f(n):\n",
        "    return n / (sym.factorial(n)**(1. / n))"
      ]
    },
    {
      "cell_type": "code",
      "source": [
        "n = np.arange(1, 100)\n",
        "y = list(map(lambda n: f(n), n))\n",
        "plt.plot(n, y)\n",
        "plt.show()"
      ],
      "metadata": {
        "colab": {
          "base_uri": "https://localhost:8080/",
          "height": 430
        },
        "id": "Tr3M3jAfWH3C",
        "outputId": "23074e1a-8b40-48d0-b13c-eac3352e32e7"
      },
      "execution_count": null,
      "outputs": [
        {
          "output_type": "display_data",
          "data": {
            "text/plain": [
              "<Figure size 640x480 with 1 Axes>"
            ],
            "image/png": "[encoded data removed]"
          },
          "metadata": {}
        }
      ]
    },
    {
      "cell_type": "code",
      "source": [
        "start_time = time.time()\n",
        "\n",
        "e = 10**(-7)\n",
        "n_i = 1\n",
        "f_n0 = f(n_i)\n",
        "while True:\n",
        "    n_i = n_i + 1\n",
        "    f_n1 = f_n0\n",
        "    f_n0 = f(n_i)\n",
        "    if f_n0 - f_n1 <= e:\n",
        "        break\n",
        "\n",
        "print(f_n0)\n",
        "print(f\"Время выполнения {time.time() - start_time} секунд\")"
      ],
      "metadata": {
        "colab": {
          "base_uri": "https://localhost:8080/"
        },
        "id": "dOvdMdNfWKED",
        "outputId": "c5757108-a4fb-43b7-b31a-5fe8b2a05740"
      },
      "execution_count": null,
      "outputs": [
        {
          "output_type": "stream",
          "name": "stdout",
          "text": [
            "2.71698842372422\n",
            "Время выполнения 57.19805073738098 секунд\n"
          ]
        }
      ]
    },
    {
      "cell_type": "markdown",
      "metadata": {
        "id": "2KFbDQAq7jN7"
      },
      "source": [
        "## 4. *Предложить оптимизацию алгоритма, полученного в задании 3, ускоряющую его сходимость."
      ]
    },
    {
      "cell_type": "code",
      "source": [
        "start_time = time.time()\n",
        "\n",
        "e = 10**(-7)\n",
        "n_i = 100000\n",
        "f_n0 = f(n_i)\n",
        "while True:\n",
        "    n_i = n_i + 1\n",
        "    f_n1 = f_n0\n",
        "    f_n0 = f(n_i)\n",
        "    if f_n0 - f_n1 <= e:\n",
        "        break\n",
        "\n",
        "print(f_n0)\n",
        "print(f\"Время выполнения {time.time() - start_time} секунд\")"
      ],
      "metadata": {
        "colab": {
          "base_uri": "https://localhost:8080/"
        },
        "id": "wg9KUdzKVz4_",
        "outputId": "b5e10e2d-ec04-469e-93e3-b5c796f3c4c3"
      },
      "execution_count": null,
      "outputs": [
        {
          "output_type": "stream",
          "name": "stdout",
          "text": [
            "2.71810037995166\n",
            "Время выполнения 0.2989163398742676 секунд\n"
          ]
        }
      ]
    }
  ],
  "metadata": {
    "kernelspec": {
      "display_name": "Python 3",
      "language": "python",
      "name": "python3"
    },
    "language_info": {
      "codemirror_mode": {
        "name": "ipython",
        "version": 3
      },
      "file_extension": ".py",
      "mimetype": "text/x-python",
      "name": "python",
      "nbconvert_exporter": "python",
      "pygments_lexer": "ipython3",
      "version": "3.7.4"
    },
    "latex_envs": {
      "LaTeX_envs_menu_present": true,
      "autoclose": true,
      "autocomplete": true,
      "bibliofile": "biblio.bib",
      "cite_by": "apalike",
      "current_citInitial": 1,
      "eqLabelWithNumbers": true,
      "eqNumInitial": 1,
      "hotkeys": {
        "equation": "Ctrl-E",
        "itemize": "Ctrl-I"
      },
      "labels_anchors": false,
      "latex_user_defs": false,
      "report_style_numbering": false,
      "user_envs_cfg": false
    },
    "toc": {
      "base_numbering": 1,
      "nav_menu": {},
      "number_sections": true,
      "sideBar": true,
      "skip_h1_title": false,
      "title_cell": "Table of Contents",
      "title_sidebar": "Contents",
      "toc_cell": false,
      "toc_position": {},
      "toc_section_display": true,
      "toc_window_display": false
    },
    "varInspector": {
      "cols": {
        "lenName": 16,
        "lenType": 16,
        "lenVar": 40
      },
      "kernels_config": {
        "python": {
          "delete_cmd_postfix": "",
          "delete_cmd_prefix": "del ",
          "library": "var_list.py",
          "varRefreshCmd": "print(var_dic_list())"
        },
        "r": {
          "delete_cmd_postfix": ") ",
          "delete_cmd_prefix": "rm(",
          "library": "var_list.r",
          "varRefreshCmd": "cat(var_dic_list()) "
        }
      },
      "types_to_exclude": [
        "module",
        "function",
        "builtin_function_or_method",
        "instance",
        "_Feature"
      ],
      "window_display": false
    },
    "colab": {
      "provenance": [],
      "include_colab_link": true
    }
  },
  "nbformat": 4,
  "nbformat_minor": 0
}
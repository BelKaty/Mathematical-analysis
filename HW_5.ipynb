{
  "cells": [
    {
      "cell_type": "markdown",
      "metadata": {
        "id": "view-in-github",
        "colab_type": "text"
      },
      "source": [
        "<a href=\"https://colab.research.google.com/github/BelKaty/Mathematical-analysis/blob/main/HW_5.ipynb\" target=\"_parent\"><img src=\"https://colab.research.google.com/assets/colab-badge.svg\" alt=\"Open In Colab\"/></a>"
      ]
    },
    {
      "cell_type": "markdown",
      "source": [
        "# Введение в математический анализ\n",
        "# Урок 5. Предел функции. Часть 2"
      ],
      "metadata": {
        "id": "jVFE7w1sB-lV"
      },
      "id": "jVFE7w1sB-lV"
    },
    {
      "cell_type": "markdown",
      "id": "18ccef0d",
      "metadata": {
        "id": "18ccef0d"
      },
      "source": [
        "## 1. Найти пределы"
      ]
    },
    {
      "cell_type": "markdown",
      "id": "d674e922",
      "metadata": {
        "id": "d674e922"
      },
      "source": [
        "1. $\\lim_{x \\to \\infty} [\\ln(x + 3) - \\ln x]$\n",
        "\n",
        "Используем свойство логарифмов: $\\ln(a) - \\ln(b) = \\ln\\left(\\frac{a}{b}\\right)$.\n",
        "\n",
        "$\n",
        "\\lim_{x \\to \\infty} \\left[ \\ln(x + 3) - \\ln x \\right] = \\lim_{x \\to \\infty} \\ln \\left( \\frac{x + 3}{x} \\right) = \\lim_{x \\to \\infty} \\ln \\left( 1 + \\frac{3}{x} \\right)\n",
        "$\n",
        "\n",
        "Когда $ x \\to \\infty $, $\\frac{3}{x} \\to 0$, поэтому:\n",
        "\n",
        "$\n",
        "\\lim_{x \\to \\infty} \\ln \\left( 1 + \\frac{3}{x} \\right) = \\ln(1) = 0\n",
        "$\n",
        "\n",
        "#### **Ответ:** 0\n"
      ]
    },
    {
      "cell_type": "markdown",
      "id": "5bbd42af",
      "metadata": {
        "id": "5bbd42af"
      },
      "source": [
        "2. $\\lim_{x \\to 0} \\frac{\\ln(1 + 2x)}{\\arcsin 3x}$\n",
        "\n",
        "По правилу Лопиталя, так как и числитель, и знаменатель стремятся к 0.\n",
        "\n",
        "$\n",
        "\\lim_{x \\to 0} \\frac{\\ln(1 + 2x)}{\\arcsin 3x}\n",
        "$\n",
        "\n",
        "Производная числителя: $\\frac{d}{dx} \\ln(1 + 2x) = \\frac{2}{1 + 2x}$\n",
        "\n",
        "Производная знаменателя: $\\frac{d}{dx} \\arcsin 3x = \\frac{3}{\\sqrt{1 - 9x^2}}$\n",
        "\n",
        "Применяем правило Лопиталя:\n",
        "\n",
        "$\n",
        "\\lim_{x \\to 0} \\frac{\\frac{2}{1 + 2x}}{\\frac{3}{\\sqrt{1 - 9x^2}}} = \\lim_{x \\to 0} \\frac{2 \\sqrt{1 - 9x^2}}{3(1 + 2x)} = \\frac{2 \\sqrt{1}}{3(1)} = \\frac{2}{3}\n",
        "$\n",
        "\n",
        "#### **Ответ:** $\\frac{2}{3}$"
      ]
    },
    {
      "cell_type": "markdown",
      "id": "14952a48",
      "metadata": {
        "id": "14952a48"
      },
      "source": [
        "3. $\\lim_{x \\to 0} \\frac{7^{x-1}}{3^{x-1}}$\n",
        "\n",
        "По свойству показательных функций:\n",
        "\n",
        "$\n",
        "\\lim_{x \\to 0} \\frac{7^{x-1}}{3^{x-1}} = \\lim_{x \\to 0} \\left( \\frac{7}{3} \\right)^{x-1}\n",
        "$\n",
        "\n",
        "Когда $ x \\to 0 $, $ x-1 \\to -1 $, поэтому:\n",
        "\n",
        "$\n",
        "\\lim_{x \\to 0} \\left( \\frac{7}{3} \\right)^{x-1} = \\left( \\frac{7}{3} \\right)^{-1} = \\frac{3}{7}\n",
        "$\n",
        "\n",
        "#### **Ответ:** $\\frac{3}{7}$"
      ]
    },
    {
      "cell_type": "markdown",
      "id": "f9f0ae1d",
      "metadata": {
        "id": "f9f0ae1d"
      },
      "source": [
        "4. $\\lim_{a \\to 0} \\frac{(x+a)^3 - x^3}{a}$\n",
        "\n",
        "По формуле разности кубов:\n",
        "\n",
        "$\n",
        "\\lim_{a \\to 0} \\frac{(x+a)^3 - x^3}{a} = \\lim_{a \\to 0} \\frac{3x^2a + 3xa^2 + a^3}{a} = \\lim_{a \\to 0} (3x^2 + 3xa + a^2) = 3x^2\n",
        "$\n",
        "\n",
        "#### **Ответ:** $3x^2$"
      ]
    },
    {
      "cell_type": "markdown",
      "id": "d24ce775",
      "metadata": {
        "id": "d24ce775"
      },
      "source": [
        "\n",
        "5. $\\lim_{x \\to \\infty} \\frac{x^3}{5x^2+1} - \\frac{x^2}{5x-3}$\n",
        "\n",
        "Приводим к общему знаменателю:\n",
        "\n",
        "$\n",
        "\\lim_{x \\to \\infty} \\frac{x^3(5x-3) - x^2(5x^2+1)}{(5x^2+1)(5x-3)}\n",
        "$\n",
        "\n",
        "Упрощаем числитель:\n",
        "\n",
        "$\n",
        "x^3(5x-3) - x^2(5x^2+1) = 5x^4 - 3x^3 - 5x^4 - x^2 = -3x^3 - x^2\n",
        "$\n",
        "\n",
        "Раскроем скобки в знаменателе:\n",
        "\n",
        "$\n",
        "(5x^2+1)(5x-3) = 25x^3 - 15x^2 + 5x - 3\n",
        "$\n",
        "\n",
        "При $ x \\to \\infty $:\n",
        "\n",
        "$\n",
        "\\lim_{x \\to \\infty} \\frac{-3x^3 - x^2}{25x^3 - 15x^2 + 5x - 3} = \\lim_{x \\to \\infty} \\frac{-3 - \\frac{1}{x}}{25 - \\frac{15}{x} + \\frac{5}{x^2} - \\frac{3}{x^3}} = -\\frac{3}{25}\n",
        "$\n",
        "\n",
        "#### **Ответ:** $-\\frac{3}{25}$\n"
      ]
    },
    {
      "cell_type": "markdown",
      "id": "988d5b9c",
      "metadata": {
        "id": "988d5b9c"
      },
      "source": [
        "6. $\\lim_{x \\to 0} \\frac{1 - \\cos 4x}{2x \\cdot tg 2x}$\n",
        "\n",
        "Используем таблицу эквивалентности: $1 - \\cos 4x \\sim \\frac{(4x)^2}{2} = 8x^2$ и $tg 2x \\sim 2x$.\n",
        "\n",
        "$\n",
        "\\lim_{x \\to 0} \\frac{1 - \\cos 4x}{2x \\cdot tg 2x} = \\lim_{x \\to 0} \\frac{8x^2}{2x \\cdot 2x} = \\lim_{x \\to 0} \\frac{8x^2}{4x^2} = 2\n",
        "$\n",
        "\n",
        "#### **Ответ:** 2"
      ]
    },
    {
      "cell_type": "markdown",
      "id": "a9ecba11",
      "metadata": {
        "id": "a9ecba11"
      },
      "source": [
        "7. $\\lim_{x \\to \\infty} x \\sin \\frac{2}{x}$\n",
        "\n",
        "Используем замену $ y = \\frac{2}{x} $, тогда $ y \\to 0 $ при $ x \\to \\infty $ и провило Лопиталя $\\lim_{y \\to 0} \\frac{\\sin y}{y} = \\lim_{y \\to 0} \\frac{\\frac{d}{dy}(\\sin y)}{\\frac{d}{dy}(y)} = \\lim_{y \\to 0} \\frac{\\cos y}{1} = cos \\lim_{y \\to 0} \\ y = cos(0) = 1 $\n",
        "\n",
        "\n",
        "$\n",
        "\\lim_{x \\to \\infty} x \\sin \\frac{2}{x} = \\lim_{y \\to 0} \\frac{2 \\sin y}{y} = 2 \\lim_{y \\to 0} \\frac{\\sin y}{y} = 2 \\cdot 1 = 2\n",
        "$\n",
        "\n",
        "#### **Ответ:** 2"
      ]
    },
    {
      "cell_type": "markdown",
      "id": "dc71b368",
      "metadata": {
        "id": "dc71b368"
      },
      "source": [
        "8. $\\lim_{x \\to 0} (1 + tg x)^{ctg x}$\n",
        "\n",
        "По таблице эквивалентности $tg x \\sim x$ и $ctg x \\sim \\frac{1}{x}$.\n",
        "Далее получаем второй замечательный предел:\n",
        "\n",
        "$\n",
        "\\lim_{x \\to 0} (1 + tg x)^{ctg x} = \\lim_{x \\to 0} (1 + x)^{\\frac{1}{x}} = e\n",
        "$\n",
        "\n",
        "#### **Ответ:** e"
      ]
    },
    {
      "cell_type": "markdown",
      "id": "8abce5cc",
      "metadata": {
        "id": "8abce5cc"
      },
      "source": [
        "9. $\\lim_{x \\to 0} (\\cos 2x)^{\\frac{1}{\\sin^2 x}}$\n",
        "\n",
        "Перепишем выражение в форме, удобной для применения логарифмов. Выполним замену:\n",
        "\n",
        "$\n",
        "y = (\\cos 2x)^{\\frac{1}{\\sin^2 x}}.\n",
        "$\n",
        "\n",
        "Возьмем натуральный логарифм от обеих сторон, чтобы упростить степень:\n",
        "\n",
        "$\n",
        "\\ln y = \\frac{\\ln (\\cos 2x)}{\\sin^2 x}.\n",
        "$\n",
        "\n",
        "Теперь задача сводится к нахождению предела логарифма:\n",
        "\n",
        "$\n",
        "\\lim_{x \\to 0} \\ln y = \\lim_{x \\to 0} \\frac{\\ln (\\cos 2x)}{\\sin^2 x}.\n",
        "$\n",
        "\n",
        "Во-первых, используем приближение $\\cos 2x \\approx 1 - 2x^2$ для малых $x$. Беря натуральный логарифм от этого приближения, получаем:\n",
        "\n",
        "$\n",
        "\\ln (\\cos 2x) \\approx \\ln(1 - 2x^2).\n",
        "$\n",
        "\n",
        "Используя разложение $\\ln(1 - u) \\approx -u$ для малых $u$, получаем:\n",
        "\n",
        "$\n",
        "\\ln (1 - 2x^2) \\approx -2x^2.\n",
        "$\n",
        "\n",
        "Таким образом,\n",
        "\n",
        "$\n",
        "\\ln (\\cos 2x) \\approx -2x^2.\n",
        "$\n",
        "\n",
        "Теперь подставим это приближение в наше выражение для $\\ln y$:\n",
        "\n",
        "$\n",
        "\\ln y \\approx \\frac{-2x^2}{\\sin^2 x}.\n",
        "$\n",
        "\n",
        "Так как $x \\to 0$, используем приближение для малых углов $\\sin x \\approx x$:\n",
        "\n",
        "$\n",
        "\\sin^2 x \\approx x^2.\n",
        "$\n",
        "\n",
        "Таким образом,\n",
        "\n",
        "$\n",
        "\\frac{-2x^2}{\\sin^2 x} \\approx \\frac{-2x^2}{x^2} = -2.\n",
        "$\n",
        "\n",
        "Следовательно,\n",
        "\n",
        "$\n",
        "\\lim_{x \\to 0} \\frac{\\ln (\\cos 2x)}{\\sin^2 x} = -2.\n",
        "$\n",
        "\n",
        "Значит,\n",
        "\n",
        "$\n",
        "\\lim_{x \\to 0} \\ln y = -2,\n",
        "$\n",
        "\n",
        "что означает\n",
        "\n",
        "$\n",
        "\\ln \\lim_{x \\to 0} y = -2.\n",
        "$\n",
        "\n",
        "Возводя обе части уравнения в экспоненту, получаем:\n",
        "\n",
        "$\n",
        "\\lim_{x \\to 0} y = e^{-2}.\n",
        "$\n",
        "\n",
        "Следовательно, предел равен\n",
        "\n",
        "$\n",
        "\\lim_{x \\to 0} (\\cos 2x)^{\\frac{1}{\\sin^2 x}} = e^{-2}.\n",
        "$\n",
        "\n",
        "\n",
        "#### **Ответ:** $e^{-2}$"
      ]
    },
    {
      "cell_type": "markdown",
      "id": "680db8e6",
      "metadata": {
        "id": "680db8e6"
      },
      "source": [
        "10. $\\lim_{x \\to 0} \\frac{\\sqrt{1+x \\sin x} - 1}{x^2}$\n",
        "\n",
        "По таблице эквивалентности $\\sqrt{1 + y} - 1 \\sim \\frac{y}{2}$ при $ y \\to 0 $. В нашем случае, $ y = x\\sin x $ .\n",
        "\n",
        "$\n",
        "\\lim_{x \\to 0} \\frac{\\sqrt{1 + x \\sin x} - 1}{x^2} = \\lim_{x \\to 0} \\frac{\\frac{x \\sin x}{2}}{x^2} = \\lim_{x \\to 0} \\frac{x \\sin x}{2x^2} = \\lim_{x \\to 0} \\frac{\\sin x}{2x} = \\frac{1}{2}\n",
        "$\n",
        "\n",
        "#### **Ответ:** $\\frac{1}{2}$"
      ]
    },
    {
      "cell_type": "markdown",
      "id": "38f104c4",
      "metadata": {
        "id": "38f104c4"
      },
      "source": [
        "## 2. Установить характер разрыва функции в точке $ x_0 $:"
      ]
    },
    {
      "cell_type": "markdown",
      "id": "04fbfd06",
      "metadata": {
        "id": "04fbfd06"
      },
      "source": [
        "1. $ f(x) = \\frac{x^2 - 16}{x + 4} $,  $ x_0 = -4 $\n",
        "\n",
        "Функция $ f(x) = \\frac{x^2 - 16}{x + 4} $ не определена в точке $ x = -4 $, так как знаменатель обращается в ноль. Однако, можно упростить выражение:\n",
        "\n",
        "$ f(x) = \\frac{(x - 4)(x + 4)}{x + 4} $\n",
        "\n",
        "\n",
        "Для $ x \\neq -4 $:\n",
        "\n",
        "$f(x) = x - 4 $\n",
        "\n",
        "Теперь вычислим пределы слева и справа от точки $x = -4 $\n",
        "\n",
        "- **Предел слева:**\n",
        "\n",
        "$ \\lim_{x \\to -4^-} f(x) = \\lim_{x \\to -4^-} (x - 4) = -4 - 4 = -8 $\n",
        "\n",
        "- **Предел справа:**\n",
        "\n",
        "$ \\lim_{x \\to -4^+} f(x) = \\lim_{x \\to -4^+} (x - 4) = -4 - 4 = -8 $\n",
        "\n",
        "Так как оба предела равны $-8$, но функция не определена в точке $ x = -4 $, то в этой точке функция имеет **устранимый разрыв**, т.е. непрерывна.\n",
        "\n",
        "2. $ f(x) = \\frac{\\sin x}{x} $, $ x_0 = 0 $\n",
        "\n",
        "Функция $ f(x) = \\frac{\\sin x}{x} $ неопределена в точке $ x = 0 $, так как знаменатель обращается в ноль. Однако, известно, что:\n",
        "\n",
        "$$ \\lim_{x \\to 0} \\frac{\\sin x}{x} = 1 $$\n",
        "\n",
        "Вычислим пределы слева и справа от точки $ x = 0 $:\n",
        "\n",
        "- **Предел слева:**\n",
        "\n",
        "$$ \\lim_{x \\to 0^-} \\frac{\\sin x}{x} = 1 $$\n",
        "\n",
        "- **Предел справа:**\n",
        "\n",
        "$$ \\lim_{x \\to 0^+} \\frac{\\sin x}{x} = 1 $$\n",
        "\n",
        "Так как оба предела равны $1$, но функция не определена в точке $ x = 0 $, то в этой точке функция имеет **устранимый разрыв**, поэтому непрерывна."
      ]
    },
    {
      "cell_type": "markdown",
      "id": "3b49942a",
      "metadata": {
        "id": "3b49942a"
      },
      "source": [
        "## 3. Исследовать на непрерывность функцию f(x) в точке $x_0$:"
      ]
    },
    {
      "cell_type": "markdown",
      "id": "3fc6b01e",
      "metadata": {
        "id": "3fc6b01e"
      },
      "source": [
        "1. $f(x) = arctg \\frac{2}{x-1}$, $x_0 = 1$\n",
        "\n",
        "Функция $ f(x) = arctg \\frac{2}{x-1} $ не определена в точке $ x = 1 $, так как знаменатель обращается в ноль. Для исследования непрерывности в этой точке, необходимо вычислить пределы слева и справа:\n",
        "\n",
        "- **Предел слева:**\n",
        "\n",
        "$\n",
        "\\lim_{x \\to 1^-} arctg \\frac{2}{x-1}\n",
        "$\n",
        "\n",
        "При $ x \\to 1^- $, $ \\frac{2}{x-1} \\to -\\infty $, следовательно:\n",
        "\n",
        "$\n",
        "\\lim_{x \\to 1^-} arctg \\frac{2}{x-1} = arctg (-\\infty) = -\\frac{\\pi}{2}\n",
        "$\n",
        "\n",
        "- **Предел справа:**\n",
        "\n",
        "$\n",
        "\\lim_{x \\to 1^+} arctg \\frac{2}{x-1}\n",
        "$\n",
        "\n",
        "При $ x \\to 1^+ $, $ \\frac{2}{x-1} \\to +\\infty $, следовательно:\n",
        "\n",
        "$\n",
        "\\lim_{x \\to 1^+} arctg \\frac{2}{x-1} = arctg(+\\infty) = \\frac{\\pi}{2}\n",
        "$\n",
        "\n",
        "Так как пределы слева и справа не равны, функция $ f(x) = arctg \\frac{2}{x-1} $ имеет **разрыв первого рода** в точке $ x = 1 $.\n",
        "\n",
        "2. $f(x) = \\frac{1}{2^{x-3} - 1}$, $x_0 = 3$\n",
        "\n",
        "Функция $ f(x) = \\frac{1}{2^{x-3} - 1} $ не определена в точке $ x = 3 $, так как знаменатель обращается в ноль. Для исследования непрерывности в этой точке, необходимо вычислить пределы слева и справа:\n",
        "\n",
        "- **Предел слева:**\n",
        "\n",
        "$\n",
        "\\lim_{x \\to 3^-} \\frac{1}{2^{x-3} - 1}\n",
        "$\n",
        "\n",
        "При $ x \\to 3^- $, $ 2^{x-3} \\to 1^- $, следовательно:\n",
        "\n",
        "$\n",
        "\\lim_{x \\to 3^-} \\frac{1}{2^{x-3} - 1} \\to -\\infty\n",
        "$\n",
        "\n",
        "- **Предел справа:**\n",
        "\n",
        "$\n",
        "\\lim_{x \\to 3^+} \\frac{1}{2^{x-3} - 1}\n",
        "$\n",
        "\n",
        "При $ x \\to 3^+ $, $ 2^{x-3} \\to 1^+ $, следовательно:\n",
        "\n",
        "$\n",
        "\\lim_{x \\to 3^+} \\frac{1}{2^{x-3} - 1} \\to +\\infty\n",
        "$\n",
        "\n",
        "Так как пределы слева и справа не равны, функция $ f(x) = \\frac{1}{2^{x-3} - 1} $ имеет **разрыв второго рода** в точке $x = 3$."
      ]
    }
  ],
  "metadata": {
    "kernelspec": {
      "display_name": "Python 3 (ipykernel)",
      "language": "python",
      "name": "python3"
    },
    "language_info": {
      "codemirror_mode": {
        "name": "ipython",
        "version": 3
      },
      "file_extension": ".py",
      "mimetype": "text/x-python",
      "name": "python",
      "nbconvert_exporter": "python",
      "pygments_lexer": "ipython3",
      "version": "3.9.13"
    },
    "colab": {
      "provenance": [],
      "include_colab_link": true
    }
  },
  "nbformat": 4,
  "nbformat_minor": 5
}
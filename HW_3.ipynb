{
  "cells": [
    {
      "cell_type": "markdown",
      "metadata": {
        "id": "view-in-github",
        "colab_type": "text"
      },
      "source": [
        "<a href=\"https://colab.research.google.com/github/BelKaty/Mathematical-analysis/blob/main/HW_3.ipynb\" target=\"_parent\"><img src=\"https://colab.research.google.com/assets/colab-badge.svg\" alt=\"Open In Colab\"/></a>"
      ]
    },
    {
      "cell_type": "markdown",
      "source": [
        "#Тема “Введение в математических анализ”\n",
        "#Урок 3. Множество. Последовательность. Часть 2"
      ],
      "metadata": {
        "id": "KrJU6v3j4jeh"
      }
    },
    {
      "cell_type": "markdown",
      "metadata": {
        "id": "cpfTnK5X4D6d"
      },
      "source": [
        "### 1) Пусть $x_n = n^{(-1)^n}$. Доказать, что последовательность $\\{x_n\\}$:  \n",
        "###    а) неограниченная;  \n",
        "###    б) не является бесконечно большой."
      ]
    },
    {
      "cell_type": "markdown",
      "metadata": {
        "id": "kvcipIMQ4D6f"
      },
      "source": [
        "**а) Докажем, что последовательность $\\{x_n\\}$ неограниченная**\n",
        "\n",
        "Последовательность $\\{x_n\\}$ неограничена, если для любого числа $M$ можно найти элемент последовательности $x_k$, который больше $M$.\n",
        "\n",
        "1. Рассмотрим слующие случаи значения $n$:\n",
        "   - Если $n$ четное, $x_n = n^{(-1)^n} = n^1 = n$.\n",
        "   - Если $n$ нечетное, $x_n = n^{(-1)^n} = n^{-1} = \\frac{1}{n}$.  \n",
        "\n",
        "2. Для четных $n$, $x_n = n$.\n",
        "   Так как $n \\to \\infty$, $x_n \\to \\infty$. Для любого $M$ можно найти достаточно большое четное $n$, такое что $x_n > M$. Следовательно, последовательность $\\{x_n\\}$ неограниченная."
      ]
    },
    {
      "cell_type": "markdown",
      "metadata": {
        "id": "5yNx4mj74D6f"
      },
      "source": [
        "**б) Теперь докажем, что последовательность $\\{x_n\\}$ не является бесконечно большой**\n",
        "\n",
        "Последовательность $\\{x_n\\}$ бесконечно велика, если для любого числа $M$ найдется номер $N$, после которого все элементы последовательности $x_n$ больше $M$, т.е. $|x_n| > M$ при $n > N$.\n",
        "\n",
        "1. Для нечетных $n$, $x_n = \\frac{1}{n}$.\n",
        "   Как $n \\to \\infty$, $x_n \\to 0$. Это означает, что последовательность $\\{x_n\\}$ принимает значения, которые становятся очень малыми (приближаются к нулю), и, следовательно, не может быть бесконечно большой.\n",
        "\n",
        "2. Сочетание четных и нечетных $n$:\n",
        "   - Для четных $n$ элементы $x_n$ возрастают неограниченно.\n",
        "   - Для нечетных $n$ элементы $x_n$ убывают и стремятся к 0.\n",
        "\n",
        "Таким образом, последовательность $\\{x_n\\}$ содержит как неограниченно большие значения (для четных $n$), так и значения, стремящиеся к нулю (для нечетных $n$)."
      ]
    },
    {
      "cell_type": "markdown",
      "metadata": {
        "id": "DbK5Bo-c4D6f"
      },
      "source": [
        "### 2) Доказать, что последовательность $\\{\\sin n\\}$ расходится. ###"
      ]
    },
    {
      "cell_type": "markdown",
      "metadata": {
        "id": "5UUdkMDd4D6g"
      },
      "source": [
        "Докажем, что последовательность $\\{ \\sin n \\}$ расходится методом от противного.\n",
        "Пусть $\\lim_{n \\to \\infty}\\ {\\sin n \\ = a}$. Тогда $\\lim_{n \\to \\infty}\\ {\\sin (n+2) \\ = a}$, откуда\n",
        "\n",
        "$\\lim_{n \\to \\infty}\\ {\\sin (n+2)\\ - \\sin n \\ = 0}$. (1)\n",
        "\n",
        "Так как $\\lim_{n \\to \\infty}\\ {\\sin (n+2)\\ - \\sin n \\ = 2\\sin 1 \\cos(n+1) }$, то учитывая равенство (1), получаем\n",
        "\n",
        "$\\lim_{n \\to \\infty}\\ {\\cos (n+1)\\  = 0}$.    \\(2)\n",
        "\n",
        "Из равенства $\\cos (n+1)\\  = \\cos n \\cos 1\\ - \\sin n \\sin 1 $, находим\n",
        "\n",
        "$\\sin n \\ = \\frac {1}{\\sin1 }(\\cos n \\cos 1 - \\cos (n+1) )$. Отсюда в силу (2) следует, что $\\lim_{n \\to \\infty}\\ {\\sin n \\ = 0}$/ Таким образом, получаем $\\lim_{n \\to \\infty}\\ {\\cos n \\ = $\\lim_{n \\to \\infty}\\ {\\sin n \\ = 0}}$, что противоречит равенству $\\cos^2 n + \\sin^2 n = 1$.\n",
        "Cледовательно $\\{ \\sin n \\}$ расходится.\n"
      ]
    },
    {
      "cell_type": "markdown",
      "metadata": {
        "id": "_NGzEdha4D6g"
      },
      "source": [
        "### 3) Найти предел:\n",
        "\n",
        "а) $\\lim_{x \\to \\infty} \\frac{10n}{n^2+1}$"
      ]
    },
    {
      "cell_type": "markdown",
      "metadata": {
        "id": "ov4AX8ry4D6g"
      },
      "source": [
        "Вынесем $n^2$ за скобки в знаменателе:\n",
        "$\\frac{10n}{n^2(1+\\frac{1}{n^2})}$\n",
        "\n",
        "Теперь разделим числитель и знаменатель на $n^2$:\n",
        "$\\frac{\\frac{10n}{n^2}}{1 + \\frac{1}{n^2}} =  \\frac{\\frac{10}{n}}{1 + \\frac{1}{n^2}}$\n",
        "\n",
        "Упростим выражение:\n",
        "$\\frac{\\frac{10}{n}}{1 + \\frac{1}{n^2}}$\n",
        "\n",
        "При $n \\to \\infty$, $\\frac{10}{n} \\to 0$ и $\\frac{1}{n^2} \\to 0$.   Поэтому: $\\lim_{n \\to \\infty} \\frac{0}{1 + 0} = \\frac{0}{1} = 0$\n",
        "\n",
        "### Ответ: 0"
      ]
    },
    {
      "cell_type": "markdown",
      "metadata": {
        "id": "RyLRUiJa4D6g"
      },
      "source": [
        " б) $\\lim_{n \\to \\infty} \\frac{n^2-n}{n - \\sqrt{n}}$"
      ]
    },
    {
      "cell_type": "markdown",
      "metadata": {
        "id": "l9o1hi134D6g"
      },
      "source": [
        "\n",
        "\n",
        "Разделим и числитель и знаменатель на $ n $:  \n",
        "$\\frac{n^2 - n}{n} = n - 1$  \n",
        "$\\frac{n - \\sqrt{n}}{n} = 1 - \\frac{\\sqrt{n}}{n} = 1 - \\frac{1}{\\sqrt{n}}$\n",
        "\n",
        "Подставим упрощенные выражения в предел:  \n",
        "$\\lim_{n \\to \\infty} \\frac{n - 1}{1 - \\frac{1}{\\sqrt{n}}}$  \n",
        "\n",
        "При $ n \\to \\infty $, $ \\frac{1}{\\sqrt{n}} \\to 0 $.  \n",
        "Числитель $ n - 1 \\to \\infty$ .  \n",
        "Знаменатель $ 1 - \\frac{1}{\\sqrt{n}} \\to 1 $.  \n",
        "\n",
        "Таким образом, $ \\lim_{n \\to \\infty}\\frac{n - 1}{1 - \\frac{1}{\\sqrt{n}}} = \\frac{\\infty}{1} = \\infty$ .\n",
        "\n",
        "### Ответ: $\\infty$"
      ]
    },
    {
      "cell_type": "markdown",
      "metadata": {
        "id": "vIcvIGSj4D6g"
      },
      "source": [
        "в) $\\lim_{n \\to \\infty} \\frac{5 \\cdot 3^n}{3^n - 2}$"
      ]
    },
    {
      "cell_type": "markdown",
      "metadata": {
        "id": "loV1Iy9f4D6h"
      },
      "source": [
        "Разделим числитель и знаменатель на $ 3^n $:\n",
        "\n",
        "$\\frac{5 \\cdot 3^n}{3^n - 2} = \\frac{5 \\cdot \\frac{3^n}{3^n}}{\\frac{3^n - 2}{3^n}} = \\frac{5}{1 - \\frac{2}{3^n}}$\n",
        "\n",
        "Теперь рассмотрим предел при $ n \\to \\infty$:\n",
        "\n",
        "$\\lim_{n \\to \\infty} \\frac{5}{1 - \\frac{2}{3^n}}$\n",
        "\n",
        "Поскольку $ \\frac{2}{3^n} \\to 0$ при $ n \\to \\infty$, выражение упрощается до:\n",
        "\n",
        "$\\frac{5}{1 - 0} = 5$\n",
        "\n",
        "### Ответ: 5\n"
      ]
    },
    {
      "cell_type": "markdown",
      "metadata": {
        "id": "-fYVsizU4D6h"
      },
      "source": [
        "### 4. Найти предел:\n",
        "$\\lim_{n \\to \\infty} (\\sqrt{n^2 + n} - n)$"
      ]
    },
    {
      "cell_type": "markdown",
      "metadata": {
        "id": "VVm3Uueh4D6h"
      },
      "source": [
        "Чтобы найти предел $\\lim_{n \\to \\infty} \\sqrt{n^2 + n} - n$, мы можем использовать метод умножения на сопряженное выражение. Вот пошаговое решение:\n",
        "\n",
        "Умножим на сопряженное выражение:  \n",
        "  $\\sqrt{n^2 + n} - n = \\left( \\sqrt{n^2 + n} - n \\right) \\cdot \\frac{\\sqrt{n^2 + n} + n}{\\sqrt{n^2 + n} + n}$  \n",
        "\n",
        "Раскроем скобки в числителе:  \n",
        "  $\\left( \\sqrt{n^2 + n} - n \\right) \\cdot \\left( \\sqrt{n^2 + n} + n \\right) = \\left( \\sqrt{n^2 + n} \\right)^2 - n^2 = n^2 + n - n^2 = n$\n",
        "\n",
        "Поработаем со знаменателем:  \n",
        "  ${\\sqrt{n^2 + n} + n}$\n",
        "\n",
        "  При  $ n \\to \\infty$, в выражении $ \\sqrt{n^2 + n}$ переменной ${n}$ можно пренебречь. Получаем в знаменателе ${\\sqrt{n^2} + n = n + n = 2n}$\n",
        "\n",
        "Таким образом, получаем выражение: $\\frac{n}{2n} = \\frac{1}{2}$\n",
        "\n",
        "\n",
        "### Ответ:  ${\\frac{1}{2}}$."
      ]
    },
    {
      "cell_type": "markdown",
      "metadata": {
        "id": "0vYllCMa4D6h"
      },
      "source": [
        "### 5. Вычислить\n",
        "$\\lim_{n \\to \\infty} \\frac{\\sqrt{n} \\cos n}{n+1}$."
      ]
    },
    {
      "cell_type": "markdown",
      "metadata": {
        "id": "oD5q1tOA4D6h"
      },
      "source": [
        "Функция $\\cos n$ является периодической и ограниченной, так как $-1 \\leq \\cos n \\leq 1$.  \n",
        "\n",
        "Разделим числитель и знаменатель на $n$:\n",
        "$\\frac{\\sqrt{n} \\cos n}{n+1} = \\frac{\\sqrt{n} \\cos n}{n(1 + \\frac{1}{n})} = \\frac{\\cos n}{\\sqrt{n}(1 + \\frac{1}{n})}$  \n",
        "\n",
        "Рассмотрим предел отдельно для числителя и знаменателя:\n",
        "$\\lim_{n \\to \\infty} \\frac{\\cos n}{\\sqrt{n}(1 + \\frac{1}{n})}$  \n",
        "При $n \\to \\infty$, $\\frac{1}{n} \\to 0$, поэтому знаменатель стремится к $\\sqrt{n}$.  \n",
        "\n",
        "Так как $\\cos n$ ограничен $(-1 \\leq \\cos n \\leq 1)$, числитель $\\cos n$ не влияет на рост знаменателя $\\sqrt{n}$.  \n",
        "\n",
        "Таким образом, $\\frac{\\cos n}{\\sqrt{n}}$ стремится к 0, так как $\\sqrt{n}$ растет быстрее, чем $\\cos n$ колеблется.  \n",
        "$\\lim_{n \\to \\infty} \\frac{\\cos n}{\\sqrt{n}} = 0$  \n",
        "\n",
        "### Ответ:  0."
      ]
    }
  ],
  "metadata": {
    "kernelspec": {
      "display_name": "Python 3 (ipykernel)",
      "language": "python",
      "name": "python3"
    },
    "language_info": {
      "codemirror_mode": {
        "name": "ipython",
        "version": 3
      },
      "file_extension": ".py",
      "mimetype": "text/x-python",
      "name": "python",
      "nbconvert_exporter": "python",
      "pygments_lexer": "ipython3",
      "version": "3.9.13"
    },
    "colab": {
      "provenance": [],
      "include_colab_link": true
    }
  },
  "nbformat": 4,
  "nbformat_minor": 0
}